{
  "cells": [
    {
      "cell_type": "markdown",
      "metadata": {
        "id": "view-in-github",
        "colab_type": "text"
      },
      "source": [
        "<a href=\"https://colab.research.google.com/github/JINJA-E/rep4DL/blob/main/5%EC%9E%A5_study.ipynb\" target=\"_parent\"><img src=\"https://colab.research.google.com/assets/colab-badge.svg\" alt=\"Open In Colab\"/></a>"
      ]
    },
    {
      "cell_type": "markdown",
      "metadata": {
        "id": "Q2gXzLFQq5rD"
      },
      "source": [
        "This is a companion notebook for the book [Deep Learning with Python, Second Edition](https://www.manning.com/books/deep-learning-with-python-second-edition?a_aid=keras&a_bid=76564dff). For readability, it only contains runnable code blocks and section titles, and omits everything else in the book: text paragraphs, figures, and pseudocode.\n",
        "\n",
        "**If you want to be able to follow what's going on, I recommend reading the notebook side by side with your copy of the book.**\n",
        "\n",
        "This notebook was generated for TensorFlow 2.6."
      ]
    },
    {
      "cell_type": "markdown",
      "metadata": {
        "id": "wBX-ghNbq5rG"
      },
      "source": [
        "# Fundamentals of machine learning"
      ]
    },
    {
      "cell_type": "markdown",
      "metadata": {
        "id": "xb0Ut_Khq5rG"
      },
      "source": [
        "## Generalization: The goal of machine learning"
      ]
    },
    {
      "cell_type": "markdown",
      "metadata": {
        "id": "WW7WHjfbq5rG"
      },
      "source": [
        "### Underfitting and overfitting"
      ]
    },
    {
      "cell_type": "markdown",
      "metadata": {
        "id": "99BV6JBPq5rH"
      },
      "source": [
        "#### Noisy training data"
      ]
    },
    {
      "cell_type": "markdown",
      "metadata": {
        "id": "toc-rIWuq5rH"
      },
      "source": [
        "#### Ambiguous features"
      ]
    },
    {
      "cell_type": "markdown",
      "metadata": {
        "id": "sXbDJWwOq5rH"
      },
      "source": [
        "#### Rare features and spurious correlations"
      ]
    },
    {
      "cell_type": "markdown",
      "metadata": {
        "id": "eDWgOH2Yq5rH"
      },
      "source": [
        "**Adding white-noise channels or all-zeros channels to MNIST**"
      ]
    },
    {
      "cell_type": "code",
      "execution_count": null,
      "metadata": {
        "id": "a-hZGrHZq5rI",
        "outputId": "d7e8c047-a586-4dc9-85f5-38e1faf9cae8",
        "colab": {
          "base_uri": "https://localhost:8080/"
        }
      },
      "outputs": [
        {
          "output_type": "stream",
          "name": "stdout",
          "text": [
            "Downloading data from https://storage.googleapis.com/tensorflow/tf-keras-datasets/mnist.npz\n",
            "11493376/11490434 [==============================] - 0s 0us/step\n",
            "11501568/11490434 [==============================] - 0s 0us/step\n"
          ]
        }
      ],
      "source": [
        "from tensorflow.keras.datasets import mnist\n",
        "import numpy as np\n",
        "\n",
        "(train_images, train_labels), _ = mnist.load_data()\n",
        "train_images = train_images.reshape((60000, 28 * 28))\n",
        "train_images = train_images.astype(\"float32\") / 255\n",
        "\n",
        "train_images_with_noise_channels = np.concatenate(\n",
        "    [train_images, np.random.random((len(train_images), 784))], axis=1)\n",
        "\n",
        "train_images_with_zeros_channels = np.concatenate(\n",
        "    [train_images, np.zeros((len(train_images), 784))], axis=1)"
      ]
    },
    {
      "cell_type": "code",
      "source": [
        "print(train_images_with_noise_channels.shape)\n",
        "print(train_images_with_zeros_channels.shape)"
      ],
      "metadata": {
        "id": "d4zYo2JeU8v9",
        "outputId": "c0477b91-ec39-4fb7-8001-6bfb4c3f8444",
        "colab": {
          "base_uri": "https://localhost:8080/"
        }
      },
      "execution_count": null,
      "outputs": [
        {
          "output_type": "stream",
          "name": "stdout",
          "text": [
            "(60000, 1568)\n",
            "(60000, 1568)\n"
          ]
        }
      ]
    },
    {
      "cell_type": "markdown",
      "metadata": {
        "id": "8J4epN1cq5rI"
      },
      "source": [
        "**Training the same model on MNIST data with noise channels or all-zero channels**"
      ]
    },
    {
      "cell_type": "code",
      "execution_count": null,
      "metadata": {
        "id": "EVzt2IEhq5rJ",
        "outputId": "54985897-e98a-40af-eb96-24d0e2f6df49",
        "colab": {
          "base_uri": "https://localhost:8080/"
        }
      },
      "outputs": [
        {
          "output_type": "stream",
          "name": "stdout",
          "text": [
            "Epoch 1/10\n",
            "375/375 [==============================] - 8s 21ms/step - loss: 0.6121 - accuracy: 0.8139 - val_loss: 0.2487 - val_accuracy: 0.9287\n",
            "Epoch 2/10\n",
            "375/375 [==============================] - 6s 17ms/step - loss: 0.2510 - accuracy: 0.9235 - val_loss: 0.2024 - val_accuracy: 0.9366\n",
            "Epoch 3/10\n",
            "375/375 [==============================] - 6s 17ms/step - loss: 0.1636 - accuracy: 0.9485 - val_loss: 0.1526 - val_accuracy: 0.9550\n",
            "Epoch 4/10\n",
            "375/375 [==============================] - 6s 17ms/step - loss: 0.1162 - accuracy: 0.9633 - val_loss: 0.1439 - val_accuracy: 0.9574\n",
            "Epoch 5/10\n",
            "375/375 [==============================] - 6s 17ms/step - loss: 0.0868 - accuracy: 0.9733 - val_loss: 0.1185 - val_accuracy: 0.9668\n",
            "Epoch 6/10\n",
            "375/375 [==============================] - 6s 17ms/step - loss: 0.0635 - accuracy: 0.9803 - val_loss: 0.1145 - val_accuracy: 0.9686\n",
            "Epoch 7/10\n",
            "375/375 [==============================] - 6s 17ms/step - loss: 0.0487 - accuracy: 0.9844 - val_loss: 0.1256 - val_accuracy: 0.9665\n",
            "Epoch 8/10\n",
            "375/375 [==============================] - 6s 17ms/step - loss: 0.0370 - accuracy: 0.9884 - val_loss: 0.1297 - val_accuracy: 0.9655\n",
            "Epoch 9/10\n",
            "375/375 [==============================] - 6s 17ms/step - loss: 0.0259 - accuracy: 0.9917 - val_loss: 0.1345 - val_accuracy: 0.9670\n",
            "Epoch 10/10\n",
            "375/375 [==============================] - 6s 17ms/step - loss: 0.0208 - accuracy: 0.9934 - val_loss: 0.1222 - val_accuracy: 0.9715\n",
            "Epoch 1/10\n",
            "375/375 [==============================] - 7s 18ms/step - loss: 0.2862 - accuracy: 0.9168 - val_loss: 0.1457 - val_accuracy: 0.9572\n",
            "Epoch 2/10\n",
            "375/375 [==============================] - 7s 17ms/step - loss: 0.1196 - accuracy: 0.9642 - val_loss: 0.1080 - val_accuracy: 0.9653\n",
            "Epoch 3/10\n",
            "375/375 [==============================] - 6s 17ms/step - loss: 0.0774 - accuracy: 0.9770 - val_loss: 0.0911 - val_accuracy: 0.9734\n",
            "Epoch 4/10\n",
            "375/375 [==============================] - 7s 18ms/step - loss: 0.0559 - accuracy: 0.9833 - val_loss: 0.0783 - val_accuracy: 0.9769\n",
            "Epoch 5/10\n",
            "375/375 [==============================] - 7s 17ms/step - loss: 0.0420 - accuracy: 0.9874 - val_loss: 0.0809 - val_accuracy: 0.9753\n",
            "Epoch 6/10\n",
            "375/375 [==============================] - 7s 18ms/step - loss: 0.0316 - accuracy: 0.9909 - val_loss: 0.0840 - val_accuracy: 0.9772\n",
            "Epoch 7/10\n",
            "375/375 [==============================] - 7s 18ms/step - loss: 0.0232 - accuracy: 0.9936 - val_loss: 0.0795 - val_accuracy: 0.9792\n",
            "Epoch 8/10\n",
            "375/375 [==============================] - 7s 17ms/step - loss: 0.0182 - accuracy: 0.9948 - val_loss: 0.0836 - val_accuracy: 0.9779\n",
            "Epoch 9/10\n",
            "375/375 [==============================] - 6s 17ms/step - loss: 0.0141 - accuracy: 0.9960 - val_loss: 0.0954 - val_accuracy: 0.9763\n",
            "Epoch 10/10\n",
            "375/375 [==============================] - 6s 17ms/step - loss: 0.0106 - accuracy: 0.9971 - val_loss: 0.0822 - val_accuracy: 0.9793\n"
          ]
        }
      ],
      "source": [
        "from tensorflow import keras\n",
        "from tensorflow.keras import layers\n",
        "\n",
        "def get_model():\n",
        "    model = keras.Sequential([\n",
        "        layers.Dense(512, activation=\"relu\"),\n",
        "        layers.Dense(10, activation=\"softmax\")\n",
        "    ])\n",
        "    model.compile(optimizer=\"rmsprop\",\n",
        "                  loss=\"sparse_categorical_crossentropy\",\n",
        "                  metrics=[\"accuracy\"])\n",
        "    return model\n",
        "\n",
        "model = get_model()\n",
        "history_noise = model.fit(\n",
        "    train_images_with_noise_channels, train_labels,\n",
        "    epochs=10,\n",
        "    batch_size=128,\n",
        "    validation_split=0.2)\n",
        "\n",
        "model = get_model()\n",
        "history_zeros = model.fit(\n",
        "    train_images_with_zeros_channels, train_labels,\n",
        "    epochs=10,\n",
        "    batch_size=128,\n",
        "    validation_split=0.2)"
      ]
    },
    {
      "cell_type": "code",
      "source": [
        "model = get_model()\n",
        "history_original = model.fit(train_images, train_labels, epochs=10, batch_size=128,validation_split=0.2)"
      ],
      "metadata": {
        "id": "iV2gjSDXWLMY",
        "outputId": "ed10b287-f6e1-4c66-df70-8de073519b17",
        "colab": {
          "base_uri": "https://localhost:8080/"
        }
      },
      "execution_count": null,
      "outputs": [
        {
          "output_type": "stream",
          "name": "stdout",
          "text": [
            "Epoch 1/10\n",
            "375/375 [==============================] - 5s 11ms/step - loss: 0.2839 - accuracy: 0.9171 - val_loss: 0.1509 - val_accuracy: 0.9571\n",
            "Epoch 2/10\n",
            "375/375 [==============================] - 5s 12ms/step - loss: 0.1194 - accuracy: 0.9641 - val_loss: 0.1074 - val_accuracy: 0.9688\n",
            "Epoch 3/10\n",
            "375/375 [==============================] - 6s 16ms/step - loss: 0.0784 - accuracy: 0.9767 - val_loss: 0.0932 - val_accuracy: 0.9718\n",
            "Epoch 4/10\n",
            "375/375 [==============================] - 6s 16ms/step - loss: 0.0566 - accuracy: 0.9831 - val_loss: 0.0860 - val_accuracy: 0.9751\n",
            "Epoch 5/10\n",
            "375/375 [==============================] - 6s 15ms/step - loss: 0.0420 - accuracy: 0.9876 - val_loss: 0.0842 - val_accuracy: 0.9765\n",
            "Epoch 6/10\n",
            "375/375 [==============================] - 8s 20ms/step - loss: 0.0314 - accuracy: 0.9907 - val_loss: 0.0757 - val_accuracy: 0.9793\n",
            "Epoch 7/10\n",
            "375/375 [==============================] - 6s 17ms/step - loss: 0.0239 - accuracy: 0.9931 - val_loss: 0.0825 - val_accuracy: 0.9773\n",
            "Epoch 8/10\n",
            "375/375 [==============================] - 7s 17ms/step - loss: 0.0184 - accuracy: 0.9947 - val_loss: 0.0813 - val_accuracy: 0.9792\n",
            "Epoch 9/10\n",
            "375/375 [==============================] - 6s 15ms/step - loss: 0.0134 - accuracy: 0.9964 - val_loss: 0.0911 - val_accuracy: 0.9787\n",
            "Epoch 10/10\n",
            "375/375 [==============================] - 4s 11ms/step - loss: 0.0102 - accuracy: 0.9970 - val_loss: 0.0939 - val_accuracy: 0.9762\n"
          ]
        }
      ]
    },
    {
      "cell_type": "markdown",
      "metadata": {
        "id": "CRKW6E9bq5rJ"
      },
      "source": [
        "**Plotting a validation accuracy comparison**"
      ]
    },
    {
      "cell_type": "code",
      "execution_count": null,
      "metadata": {
        "id": "2f9q0w1xq5rJ",
        "outputId": "3ee842e9-2cd7-4581-bfaf-e10eba72b20b",
        "colab": {
          "base_uri": "https://localhost:8080/",
          "height": 314
        }
      },
      "outputs": [
        {
          "output_type": "execute_result",
          "data": {
            "text/plain": [
              "<matplotlib.legend.Legend at 0x7ff706143110>"
            ]
          },
          "metadata": {},
          "execution_count": 8
        },
        {
          "output_type": "display_data",
          "data": {
            "text/plain": [
              "<Figure size 432x288 with 1 Axes>"
            ],
            "image/png": "[encoded data removed]"
          },
          "metadata": {
            "needs_background": "light"
          }
        }
      ],
      "source": [
        "import matplotlib.pyplot as plt\n",
        "val_acc_noise = history_noise.history[\"val_accuracy\"]\n",
        "val_acc_zeros = history_zeros.history[\"val_accuracy\"]\n",
        "val_acc_origin = history_original.history[\"val_accuracy\"]\n",
        "epochs = range(1, 11)\n",
        "plt.plot(epochs, val_acc_noise, \"b-\",\n",
        "         label=\"Validation accuracy with noise channels\")\n",
        "plt.plot(epochs, val_acc_zeros, \"b--\",\n",
        "         label=\"Validation accuracy with zeros channels\")\n",
        "plt.plot(epochs,val_acc_origin, \"r\",label = 'original accuracy')\n",
        "plt.title(\"Effect of noise channels on validation accuracy\")\n",
        "plt.xlabel(\"Epochs\")\n",
        "plt.ylabel(\"Accuracy\")\n",
        "plt.legend()"
      ]
    },
    {
      "cell_type": "markdown",
      "source": [
        "지금 결과를 보시면, noise채널은 bad performance.그러니까 noise추가하지말자 뭐 이런 뜻인가봐.."
      ],
      "metadata": {
        "id": "5ruWWtuyXQGU"
      }
    },
    {
      "cell_type": "markdown",
      "metadata": {
        "id": "qATWFi5Nq5rK"
      },
      "source": [
        "### The nature of generalization in deep learning"
      ]
    },
    {
      "cell_type": "markdown",
      "metadata": {
        "id": "5RtlE17Tq5rK"
      },
      "source": [
        "**Fitting a MNIST model with randomly shuffled labels**"
      ]
    },
    {
      "cell_type": "code",
      "execution_count": null,
      "metadata": {
        "id": "8kPCa3lFq5rK",
        "outputId": "8b7097b2-42b0-45d6-ddd6-da963ad6f79f",
        "colab": {
          "base_uri": "https://localhost:8080/"
        }
      },
      "outputs": [
        {
          "output_type": "stream",
          "name": "stdout",
          "text": [
            "Epoch 1/100\n",
            "375/375 [==============================] - 5s 11ms/step - loss: 2.3180 - accuracy: 0.1039 - val_loss: 2.3051 - val_accuracy: 0.1085\n",
            "Epoch 2/100\n",
            "375/375 [==============================] - 4s 11ms/step - loss: 2.3008 - accuracy: 0.1146 - val_loss: 2.3120 - val_accuracy: 0.1013\n",
            "Epoch 3/100\n",
            "375/375 [==============================] - 4s 11ms/step - loss: 2.2911 - accuracy: 0.1272 - val_loss: 2.3163 - val_accuracy: 0.1007\n",
            "Epoch 4/100\n",
            "375/375 [==============================] - 4s 11ms/step - loss: 2.2776 - accuracy: 0.1410 - val_loss: 2.3260 - val_accuracy: 0.1025\n",
            "Epoch 5/100\n",
            "375/375 [==============================] - 4s 10ms/step - loss: 2.2611 - accuracy: 0.1546 - val_loss: 2.3331 - val_accuracy: 0.1002\n",
            "Epoch 6/100\n",
            "375/375 [==============================] - 4s 11ms/step - loss: 2.2401 - accuracy: 0.1663 - val_loss: 2.3545 - val_accuracy: 0.1013\n",
            "Epoch 7/100\n",
            "375/375 [==============================] - 4s 11ms/step - loss: 2.2150 - accuracy: 0.1831 - val_loss: 2.3685 - val_accuracy: 0.1016\n",
            "Epoch 8/100\n",
            "375/375 [==============================] - 4s 11ms/step - loss: 2.1883 - accuracy: 0.1984 - val_loss: 2.3879 - val_accuracy: 0.0945\n",
            "Epoch 9/100\n",
            "375/375 [==============================] - 4s 11ms/step - loss: 2.1584 - accuracy: 0.2129 - val_loss: 2.4064 - val_accuracy: 0.0988\n",
            "Epoch 10/100\n",
            "375/375 [==============================] - 4s 11ms/step - loss: 2.1273 - accuracy: 0.2335 - val_loss: 2.4283 - val_accuracy: 0.0995\n",
            "Epoch 11/100\n",
            "375/375 [==============================] - 4s 11ms/step - loss: 2.0977 - accuracy: 0.2456 - val_loss: 2.4538 - val_accuracy: 0.1031\n",
            "Epoch 12/100\n",
            "375/375 [==============================] - 4s 11ms/step - loss: 2.0630 - accuracy: 0.2609 - val_loss: 2.4739 - val_accuracy: 0.1032\n",
            "Epoch 13/100\n",
            "375/375 [==============================] - 4s 11ms/step - loss: 2.0302 - accuracy: 0.2747 - val_loss: 2.5162 - val_accuracy: 0.0952\n",
            "Epoch 14/100\n",
            "375/375 [==============================] - 4s 11ms/step - loss: 1.9954 - accuracy: 0.2910 - val_loss: 2.5405 - val_accuracy: 0.0987\n",
            "Epoch 15/100\n",
            "375/375 [==============================] - 4s 11ms/step - loss: 1.9615 - accuracy: 0.3044 - val_loss: 2.5637 - val_accuracy: 0.1006\n",
            "Epoch 16/100\n",
            "375/375 [==============================] - 4s 11ms/step - loss: 1.9271 - accuracy: 0.3185 - val_loss: 2.5989 - val_accuracy: 0.1022\n",
            "Epoch 17/100\n",
            "375/375 [==============================] - 4s 11ms/step - loss: 1.8910 - accuracy: 0.3353 - val_loss: 2.6369 - val_accuracy: 0.1011\n",
            "Epoch 18/100\n",
            "375/375 [==============================] - 4s 11ms/step - loss: 1.8588 - accuracy: 0.3486 - val_loss: 2.6640 - val_accuracy: 0.0986\n",
            "Epoch 19/100\n",
            "375/375 [==============================] - 4s 11ms/step - loss: 1.8247 - accuracy: 0.3611 - val_loss: 2.6926 - val_accuracy: 0.0979\n",
            "Epoch 20/100\n",
            "375/375 [==============================] - 4s 11ms/step - loss: 1.7949 - accuracy: 0.3744 - val_loss: 2.7270 - val_accuracy: 0.0983\n",
            "Epoch 21/100\n",
            "375/375 [==============================] - 4s 11ms/step - loss: 1.7616 - accuracy: 0.3902 - val_loss: 2.7774 - val_accuracy: 0.0997\n",
            "Epoch 22/100\n",
            "375/375 [==============================] - 4s 11ms/step - loss: 1.7310 - accuracy: 0.4005 - val_loss: 2.8156 - val_accuracy: 0.0972\n",
            "Epoch 23/100\n",
            "375/375 [==============================] - 4s 11ms/step - loss: 1.6997 - accuracy: 0.4099 - val_loss: 2.8553 - val_accuracy: 0.0982\n",
            "Epoch 24/100\n",
            "375/375 [==============================] - 4s 11ms/step - loss: 1.6700 - accuracy: 0.4217 - val_loss: 2.8995 - val_accuracy: 0.0974\n",
            "Epoch 25/100\n",
            "375/375 [==============================] - 4s 11ms/step - loss: 1.6412 - accuracy: 0.4329 - val_loss: 2.9237 - val_accuracy: 0.0996\n",
            "Epoch 26/100\n",
            "375/375 [==============================] - 4s 11ms/step - loss: 1.6115 - accuracy: 0.4447 - val_loss: 2.9690 - val_accuracy: 0.0995\n",
            "Epoch 27/100\n",
            "375/375 [==============================] - 4s 11ms/step - loss: 1.5842 - accuracy: 0.4547 - val_loss: 3.0040 - val_accuracy: 0.1001\n",
            "Epoch 28/100\n",
            "375/375 [==============================] - 4s 11ms/step - loss: 1.5553 - accuracy: 0.4673 - val_loss: 3.0449 - val_accuracy: 0.1021\n",
            "Epoch 29/100\n",
            "375/375 [==============================] - 5s 13ms/step - loss: 1.5288 - accuracy: 0.4738 - val_loss: 3.1055 - val_accuracy: 0.0988\n",
            "Epoch 30/100\n",
            "375/375 [==============================] - 4s 11ms/step - loss: 1.5041 - accuracy: 0.4837 - val_loss: 3.1320 - val_accuracy: 0.1011\n",
            "Epoch 31/100\n",
            "375/375 [==============================] - 4s 11ms/step - loss: 1.4774 - accuracy: 0.4918 - val_loss: 3.1687 - val_accuracy: 0.1002\n",
            "Epoch 32/100\n",
            "375/375 [==============================] - 4s 11ms/step - loss: 1.4508 - accuracy: 0.5020 - val_loss: 3.2184 - val_accuracy: 0.0987\n",
            "Epoch 33/100\n",
            "375/375 [==============================] - 4s 11ms/step - loss: 1.4311 - accuracy: 0.5111 - val_loss: 3.2983 - val_accuracy: 0.0959\n",
            "Epoch 34/100\n",
            "375/375 [==============================] - 4s 11ms/step - loss: 1.4033 - accuracy: 0.5238 - val_loss: 3.3247 - val_accuracy: 0.0989\n",
            "Epoch 35/100\n",
            "375/375 [==============================] - 4s 11ms/step - loss: 1.3825 - accuracy: 0.5299 - val_loss: 3.3575 - val_accuracy: 0.0983\n",
            "Epoch 36/100\n",
            "375/375 [==============================] - 4s 12ms/step - loss: 1.3583 - accuracy: 0.5371 - val_loss: 3.4205 - val_accuracy: 0.0975\n",
            "Epoch 37/100\n",
            "375/375 [==============================] - 4s 11ms/step - loss: 1.3359 - accuracy: 0.5448 - val_loss: 3.4665 - val_accuracy: 0.0969\n",
            "Epoch 38/100\n",
            "375/375 [==============================] - 4s 11ms/step - loss: 1.3147 - accuracy: 0.5529 - val_loss: 3.5263 - val_accuracy: 0.0986\n",
            "Epoch 39/100\n",
            "375/375 [==============================] - 4s 11ms/step - loss: 1.2914 - accuracy: 0.5615 - val_loss: 3.5853 - val_accuracy: 0.1016\n",
            "Epoch 40/100\n",
            "375/375 [==============================] - 4s 11ms/step - loss: 1.2704 - accuracy: 0.5689 - val_loss: 3.6172 - val_accuracy: 0.0980\n",
            "Epoch 41/100\n",
            "375/375 [==============================] - 4s 11ms/step - loss: 1.2505 - accuracy: 0.5764 - val_loss: 3.6599 - val_accuracy: 0.0988\n",
            "Epoch 42/100\n",
            "375/375 [==============================] - 4s 11ms/step - loss: 1.2292 - accuracy: 0.5851 - val_loss: 3.7092 - val_accuracy: 0.1013\n",
            "Epoch 43/100\n",
            "375/375 [==============================] - 4s 11ms/step - loss: 1.2103 - accuracy: 0.5901 - val_loss: 3.7908 - val_accuracy: 0.1058\n",
            "Epoch 44/100\n",
            "375/375 [==============================] - 4s 11ms/step - loss: 1.1905 - accuracy: 0.5987 - val_loss: 3.7975 - val_accuracy: 0.1019\n",
            "Epoch 45/100\n",
            "375/375 [==============================] - 4s 11ms/step - loss: 1.1720 - accuracy: 0.6049 - val_loss: 3.8690 - val_accuracy: 0.1025\n",
            "Epoch 46/100\n",
            "375/375 [==============================] - 4s 11ms/step - loss: 1.1544 - accuracy: 0.6116 - val_loss: 3.9261 - val_accuracy: 0.1017\n",
            "Epoch 47/100\n",
            "375/375 [==============================] - 4s 10ms/step - loss: 1.1321 - accuracy: 0.6198 - val_loss: 4.0170 - val_accuracy: 0.0993\n",
            "Epoch 48/100\n",
            "375/375 [==============================] - 4s 11ms/step - loss: 1.1180 - accuracy: 0.6227 - val_loss: 4.0425 - val_accuracy: 0.1033\n",
            "Epoch 49/100\n",
            "375/375 [==============================] - 4s 11ms/step - loss: 1.1014 - accuracy: 0.6296 - val_loss: 4.1156 - val_accuracy: 0.1027\n",
            "Epoch 50/100\n",
            "375/375 [==============================] - 4s 11ms/step - loss: 1.0833 - accuracy: 0.6377 - val_loss: 4.1531 - val_accuracy: 0.0998\n",
            "Epoch 51/100\n",
            "375/375 [==============================] - 4s 11ms/step - loss: 1.0649 - accuracy: 0.6427 - val_loss: 4.2112 - val_accuracy: 0.1011\n",
            "Epoch 52/100\n",
            "375/375 [==============================] - 4s 11ms/step - loss: 1.0472 - accuracy: 0.6500 - val_loss: 4.2488 - val_accuracy: 0.0979\n",
            "Epoch 53/100\n",
            "375/375 [==============================] - 4s 11ms/step - loss: 1.0322 - accuracy: 0.6550 - val_loss: 4.3243 - val_accuracy: 0.0999\n",
            "Epoch 54/100\n",
            "375/375 [==============================] - 4s 11ms/step - loss: 1.0159 - accuracy: 0.6594 - val_loss: 4.3822 - val_accuracy: 0.1018\n",
            "Epoch 55/100\n",
            "375/375 [==============================] - 4s 11ms/step - loss: 1.0011 - accuracy: 0.6656 - val_loss: 4.4037 - val_accuracy: 0.1004\n",
            "Epoch 56/100\n",
            "375/375 [==============================] - 4s 11ms/step - loss: 0.9852 - accuracy: 0.6721 - val_loss: 4.5173 - val_accuracy: 0.0993\n",
            "Epoch 57/100\n",
            "375/375 [==============================] - 4s 11ms/step - loss: 0.9694 - accuracy: 0.6769 - val_loss: 4.5131 - val_accuracy: 0.1018\n",
            "Epoch 58/100\n",
            "375/375 [==============================] - 4s 11ms/step - loss: 0.9547 - accuracy: 0.6826 - val_loss: 4.5925 - val_accuracy: 0.1002\n",
            "Epoch 59/100\n",
            "375/375 [==============================] - 4s 11ms/step - loss: 0.9406 - accuracy: 0.6870 - val_loss: 4.6476 - val_accuracy: 0.0960\n",
            "Epoch 60/100\n",
            "375/375 [==============================] - 4s 11ms/step - loss: 0.9256 - accuracy: 0.6920 - val_loss: 4.6962 - val_accuracy: 0.1006\n",
            "Epoch 61/100\n",
            "375/375 [==============================] - 4s 11ms/step - loss: 0.9122 - accuracy: 0.6975 - val_loss: 4.7498 - val_accuracy: 0.1038\n",
            "Epoch 62/100\n",
            "375/375 [==============================] - 4s 11ms/step - loss: 0.8983 - accuracy: 0.7039 - val_loss: 4.7995 - val_accuracy: 0.0976\n",
            "Epoch 63/100\n",
            "375/375 [==============================] - 4s 11ms/step - loss: 0.8867 - accuracy: 0.7069 - val_loss: 4.8946 - val_accuracy: 0.0997\n",
            "Epoch 64/100\n",
            "375/375 [==============================] - 4s 11ms/step - loss: 0.8723 - accuracy: 0.7106 - val_loss: 4.9630 - val_accuracy: 0.1006\n",
            "Epoch 65/100\n",
            "375/375 [==============================] - 4s 11ms/step - loss: 0.8580 - accuracy: 0.7161 - val_loss: 4.9932 - val_accuracy: 0.1022\n",
            "Epoch 66/100\n",
            "375/375 [==============================] - 4s 11ms/step - loss: 0.8465 - accuracy: 0.7197 - val_loss: 5.0911 - val_accuracy: 0.1027\n",
            "Epoch 67/100\n",
            "375/375 [==============================] - 4s 11ms/step - loss: 0.8337 - accuracy: 0.7241 - val_loss: 5.1394 - val_accuracy: 0.0987\n",
            "Epoch 68/100\n",
            "375/375 [==============================] - 4s 11ms/step - loss: 0.8227 - accuracy: 0.7290 - val_loss: 5.1884 - val_accuracy: 0.0986\n",
            "Epoch 69/100\n",
            "375/375 [==============================] - 4s 11ms/step - loss: 0.8085 - accuracy: 0.7336 - val_loss: 5.2912 - val_accuracy: 0.1008\n",
            "Epoch 70/100\n",
            "375/375 [==============================] - 4s 11ms/step - loss: 0.7958 - accuracy: 0.7371 - val_loss: 5.3179 - val_accuracy: 0.0992\n",
            "Epoch 71/100\n",
            "375/375 [==============================] - 4s 11ms/step - loss: 0.7852 - accuracy: 0.7422 - val_loss: 5.4146 - val_accuracy: 0.0988\n",
            "Epoch 72/100\n",
            "375/375 [==============================] - 4s 11ms/step - loss: 0.7751 - accuracy: 0.7459 - val_loss: 5.4944 - val_accuracy: 0.0993\n",
            "Epoch 73/100\n",
            "375/375 [==============================] - 4s 11ms/step - loss: 0.7624 - accuracy: 0.7463 - val_loss: 5.5230 - val_accuracy: 0.1009\n",
            "Epoch 74/100\n",
            "375/375 [==============================] - 4s 10ms/step - loss: 0.7520 - accuracy: 0.7527 - val_loss: 5.5855 - val_accuracy: 0.1026\n",
            "Epoch 75/100\n",
            "375/375 [==============================] - 4s 11ms/step - loss: 0.7438 - accuracy: 0.7545 - val_loss: 5.6721 - val_accuracy: 0.0996\n",
            "Epoch 76/100\n",
            "375/375 [==============================] - 4s 11ms/step - loss: 0.7305 - accuracy: 0.7593 - val_loss: 5.6988 - val_accuracy: 0.0981\n",
            "Epoch 77/100\n",
            "375/375 [==============================] - 4s 10ms/step - loss: 0.7219 - accuracy: 0.7634 - val_loss: 5.7751 - val_accuracy: 0.1016\n",
            "Epoch 78/100\n",
            "375/375 [==============================] - 4s 11ms/step - loss: 0.7086 - accuracy: 0.7666 - val_loss: 5.8766 - val_accuracy: 0.1019\n",
            "Epoch 79/100\n",
            "375/375 [==============================] - 4s 11ms/step - loss: 0.6982 - accuracy: 0.7710 - val_loss: 5.8932 - val_accuracy: 0.0979\n",
            "Epoch 80/100\n",
            "375/375 [==============================] - 4s 11ms/step - loss: 0.6877 - accuracy: 0.7753 - val_loss: 5.9783 - val_accuracy: 0.1006\n",
            "Epoch 81/100\n",
            "375/375 [==============================] - 4s 10ms/step - loss: 0.6767 - accuracy: 0.7792 - val_loss: 6.0371 - val_accuracy: 0.1052\n",
            "Epoch 82/100\n",
            "375/375 [==============================] - 4s 11ms/step - loss: 0.6682 - accuracy: 0.7812 - val_loss: 6.0522 - val_accuracy: 0.1026\n",
            "Epoch 83/100\n",
            "375/375 [==============================] - 4s 11ms/step - loss: 0.6600 - accuracy: 0.7848 - val_loss: 6.1948 - val_accuracy: 0.1037\n",
            "Epoch 84/100\n",
            "375/375 [==============================] - 4s 10ms/step - loss: 0.6501 - accuracy: 0.7886 - val_loss: 6.2272 - val_accuracy: 0.1004\n",
            "Epoch 85/100\n",
            "375/375 [==============================] - 4s 11ms/step - loss: 0.6414 - accuracy: 0.7931 - val_loss: 6.2776 - val_accuracy: 0.1001\n",
            "Epoch 86/100\n",
            "375/375 [==============================] - 4s 11ms/step - loss: 0.6308 - accuracy: 0.7949 - val_loss: 6.3785 - val_accuracy: 0.1022\n",
            "Epoch 87/100\n",
            "375/375 [==============================] - 4s 11ms/step - loss: 0.6227 - accuracy: 0.7973 - val_loss: 6.4202 - val_accuracy: 0.1017\n",
            "Epoch 88/100\n",
            "375/375 [==============================] - 4s 11ms/step - loss: 0.6150 - accuracy: 0.7990 - val_loss: 6.4802 - val_accuracy: 0.0993\n",
            "Epoch 89/100\n",
            "375/375 [==============================] - 4s 11ms/step - loss: 0.6058 - accuracy: 0.8024 - val_loss: 6.5417 - val_accuracy: 0.1013\n",
            "Epoch 90/100\n",
            "375/375 [==============================] - 4s 11ms/step - loss: 0.5983 - accuracy: 0.8059 - val_loss: 6.6151 - val_accuracy: 0.1007\n",
            "Epoch 91/100\n",
            "375/375 [==============================] - 4s 11ms/step - loss: 0.5881 - accuracy: 0.8091 - val_loss: 6.6304 - val_accuracy: 0.1018\n",
            "Epoch 92/100\n",
            "375/375 [==============================] - 4s 11ms/step - loss: 0.5803 - accuracy: 0.8122 - val_loss: 6.7126 - val_accuracy: 0.1024\n",
            "Epoch 93/100\n",
            "375/375 [==============================] - 4s 11ms/step - loss: 0.5751 - accuracy: 0.8150 - val_loss: 6.8158 - val_accuracy: 0.1036\n",
            "Epoch 94/100\n",
            "375/375 [==============================] - 4s 11ms/step - loss: 0.5640 - accuracy: 0.8176 - val_loss: 6.8585 - val_accuracy: 0.1042\n",
            "Epoch 95/100\n",
            "375/375 [==============================] - 4s 11ms/step - loss: 0.5561 - accuracy: 0.8200 - val_loss: 7.0150 - val_accuracy: 0.1026\n",
            "Epoch 96/100\n",
            "375/375 [==============================] - 4s 11ms/step - loss: 0.5473 - accuracy: 0.8228 - val_loss: 7.0342 - val_accuracy: 0.1032\n",
            "Epoch 97/100\n",
            "375/375 [==============================] - 4s 11ms/step - loss: 0.5388 - accuracy: 0.8281 - val_loss: 7.1007 - val_accuracy: 0.1047\n",
            "Epoch 98/100\n",
            "375/375 [==============================] - 4s 11ms/step - loss: 0.5347 - accuracy: 0.8275 - val_loss: 7.1290 - val_accuracy: 0.1000\n",
            "Epoch 99/100\n",
            "375/375 [==============================] - 4s 11ms/step - loss: 0.5261 - accuracy: 0.8311 - val_loss: 7.2037 - val_accuracy: 0.1026\n",
            "Epoch 100/100\n",
            "375/375 [==============================] - 4s 11ms/step - loss: 0.5180 - accuracy: 0.8343 - val_loss: 7.2887 - val_accuracy: 0.1018\n"
          ]
        },
        {
          "output_type": "execute_result",
          "data": {
            "text/plain": [
              "<keras.callbacks.History at 0x7ff706195210>"
            ]
          },
          "metadata": {},
          "execution_count": 9
        }
      ],
      "source": [
        "(train_images, train_labels), _ = mnist.load_data()\n",
        "train_images = train_images.reshape((60000, 28 * 28))\n",
        "train_images = train_images.astype(\"float32\") / 255\n",
        "\n",
        "random_train_labels = train_labels[:]\n",
        "np.random.shuffle(random_train_labels)\n",
        "\n",
        "model = keras.Sequential([\n",
        "    layers.Dense(512, activation=\"relu\"),\n",
        "    layers.Dense(10, activation=\"softmax\")\n",
        "])\n",
        "model.compile(optimizer=\"rmsprop\",\n",
        "              loss=\"sparse_categorical_crossentropy\",\n",
        "              metrics=[\"accuracy\"])\n",
        "model.fit(train_images, random_train_labels,\n",
        "          epochs=100,\n",
        "          batch_size=128,\n",
        "          validation_split=0.2)"
      ]
    },
    {
      "cell_type": "markdown",
      "metadata": {
        "id": "fuUHtTvVq5rL"
      },
      "source": [
        "#### The manifold hypothesis\n",
        "\n",
        "높은 차원에 존재하는 데이터들의 경우, 실제로는 해당 데이터들을 아우르는 낮은 차원의 다양체manifold 역시 존재한다는 매니폴드 가설manifold hypothesis\n",
        "[출처] 차원, 벡터, Embedding|작성자 dayspring\n",
        "\n",
        "\n",
        "\n",
        "많은 차원 축소 알고리즘이 훈련 샘플이 놓여 있는 매니폴드를 모델링 하는 식으로 작동한다. 이를 매니폴드 학습(Manifold Learning)이라고 한다. \"대부분의 실제  고차원 데이터 셋이 더 낮은 저차원 매니폴드에 가깝게 놓여있다\"라는 매니폴드 가정(manifold assumption) 또는 매니폴드 가설(manifold hypothesis)에 근거한다.\n",
        "\n",
        "MNIST 데이터 셋의 경우 모든 픽셀이 연관되어 있지 않고 대부분 선으로 연결되어 있고 경계는 흰색이고 어느 정도 중앙에 있다. 즉, 극히 일부분의 변화가 판별하는 데 영향을 준다. 이러한 내용은 데이터 셋을 저차원의 매니폴드로 압축할 수 있도록 도와준다. 다시 말해 높은 차원에 존재하는 데이터들의 경우, 실제로는 해당 데이터들을 아우르는 낮은 차원의 다양체 manifold 역시 존재한다는 뜻이다.\n",
        "[출처] 차원 축소|작성자 Avengineers"
      ]
    },
    {
      "cell_type": "markdown",
      "metadata": {
        "id": "D1TFgv-Sq5rL"
      },
      "source": [
        "#### Interpolation as a source of generalization"
      ]
    },
    {
      "cell_type": "markdown",
      "metadata": {
        "id": "JYqiDVvuq5rL"
      },
      "source": [
        "#### Why deep learning works"
      ]
    },
    {
      "cell_type": "markdown",
      "metadata": {
        "id": "gBq__RDgq5rL"
      },
      "source": [
        "#### Training data is paramount"
      ]
    },
    {
      "cell_type": "markdown",
      "metadata": {
        "id": "bNLYp6UNq5rL"
      },
      "source": [
        "## Evaluating machine-learning models"
      ]
    },
    {
      "cell_type": "markdown",
      "metadata": {
        "id": "C9S7JjzFq5rM"
      },
      "source": [
        "### Training, validation, and test sets"
      ]
    },
    {
      "cell_type": "markdown",
      "metadata": {
        "id": "p4gYMND7q5rM"
      },
      "source": [
        "#### Simple hold-out validation"
      ]
    },
    {
      "cell_type": "code",
      "source": [
        "num_validation_samples =10000\n",
        "np.random.shuffle(data)\n",
        "\n",
        "validation_data = data[:num_validation_samples]\n",
        "training_data = data[num_validation_samples:]\n",
        "model = get_model()\n",
        "model.fit(training_data)\n",
        "validation_score = model.evaluate(validation_data...)\n",
        "\n",
        "...\n",
        "\n",
        "model = get_model()\n",
        "model.fit(np.concatenate([training_data,validation_data]), ....)\n",
        "test_score = model.evaluate(test_data . ....)"
      ],
      "metadata": {
        "id": "PYQYfAO5cXwV"
      },
      "execution_count": null,
      "outputs": []
    },
    {
      "cell_type": "markdown",
      "metadata": {
        "id": "S-cRAlgcq5rM"
      },
      "source": [
        "#### K-fold validation"
      ]
    },
    {
      "cell_type": "code",
      "source": [
        "k = 3\n",
        "num_validation_samples = len(data) // k\n",
        "np.random.shuffle(data)\n",
        "validation_scores = []\n",
        "\n",
        "for fold in range(k):\n",
        "  validation_data = data..."
      ],
      "metadata": {
        "id": "TH36WJ9qdnkk"
      },
      "execution_count": null,
      "outputs": []
    },
    {
      "cell_type": "markdown",
      "metadata": {
        "id": "gQFC0la0q5rN"
      },
      "source": [
        "#### Iterated K-fold validation with shuffling\n",
        "\n",
        "적은 데이터로 할 때 최대한 정확하게하기위해 사용"
      ]
    },
    {
      "cell_type": "markdown",
      "metadata": {
        "id": "2BE2b7PRq5rN"
      },
      "source": [
        "### Beating a common-sense baseline"
      ]
    },
    {
      "cell_type": "markdown",
      "metadata": {
        "id": "irzi6os7q5rN"
      },
      "source": [
        "### Things to keep in mind about model evaluation"
      ]
    },
    {
      "cell_type": "markdown",
      "metadata": {
        "id": "iaS7z3pVq5rN"
      },
      "source": [
        "## Improving model fit"
      ]
    },
    {
      "cell_type": "markdown",
      "source": [
        "three probelmes!\n",
        "\n",
        "1) training loss doesn't go down\n",
        "2) model doesn't generalize\n",
        "3) training and validation loss both go down but model underfitting"
      ],
      "metadata": {
        "id": "wStV8ji5ebp9"
      }
    },
    {
      "cell_type": "markdown",
      "metadata": {
        "id": "LH0928dhq5rN"
      },
      "source": [
        "### Tuning key gradient descent parameters\n",
        "\n",
        "* 이건 learning rate의 문제"
      ]
    },
    {
      "cell_type": "markdown",
      "metadata": {
        "id": "_aM6NcLlq5rN"
      },
      "source": [
        "**Training a MNIST model with an incorrectly high learning rate**"
      ]
    },
    {
      "cell_type": "code",
      "execution_count": null,
      "metadata": {
        "id": "b0YIz8CYq5rO"
      },
      "outputs": [],
      "source": [
        "(train_images, train_labels), _ = mnist.load_data()\n",
        "train_images = train_images.reshape((60000, 28 * 28))\n",
        "train_images = train_images.astype(\"float32\") / 255\n",
        "\n",
        "model = keras.Sequential([\n",
        "    layers.Dense(512, activation=\"relu\"),\n",
        "    layers.Dense(10, activation=\"softmax\")\n",
        "])\n",
        "model.compile(optimizer=keras.optimizers.RMSprop(1.),#too large\n",
        "              loss=\"sparse_categorical_crossentropy\",\n",
        "              metrics=[\"accuracy\"])\n",
        "model.fit(train_images, train_labels,\n",
        "          epochs=10,\n",
        "          batch_size=128,\n",
        "          validation_split=0.2)"
      ]
    },
    {
      "cell_type": "markdown",
      "metadata": {
        "id": "8yS-67Knq5rO"
      },
      "source": [
        "**The same model with a more appropriate learning rate**"
      ]
    },
    {
      "cell_type": "code",
      "execution_count": null,
      "metadata": {
        "id": "r3dFHu09q5rO"
      },
      "outputs": [],
      "source": [
        "model = keras.Sequential([\n",
        "    layers.Dense(512, activation=\"relu\"),\n",
        "    layers.Dense(10, activation=\"softmax\")\n",
        "])\n",
        "model.compile(optimizer=keras.optimizers.RMSprop(1e-2), #good\n",
        "              loss=\"sparse_categorical_crossentropy\",\n",
        "              metrics=[\"accuracy\"])\n",
        "model.fit(train_images, train_labels,\n",
        "          epochs=10,\n",
        "          batch_size=128,\n",
        "          validation_split=0.2)"
      ]
    },
    {
      "cell_type": "markdown",
      "metadata": {
        "id": "6DWfqXn7q5rO"
      },
      "source": [
        "### Leveraging better architecture priors"
      ]
    },
    {
      "cell_type": "markdown",
      "metadata": {
        "id": "eAucdyMMq5rO"
      },
      "source": [
        "### Increasing model capacity"
      ]
    },
    {
      "cell_type": "markdown",
      "metadata": {
        "id": "h22YxrLAq5rP"
      },
      "source": [
        "**A simple logistic regression on MNIST**"
      ]
    },
    {
      "cell_type": "code",
      "execution_count": null,
      "metadata": {
        "id": "OxvPljP2q5rP",
        "outputId": "786a8954-f561-4ef5-ed9b-cdf23b30f645",
        "colab": {
          "base_uri": "https://localhost:8080/"
        }
      },
      "outputs": [
        {
          "output_type": "stream",
          "name": "stdout",
          "text": [
            "Epoch 1/20\n",
            "375/375 [==============================] - 2s 3ms/step - loss: 2.3289 - accuracy: 0.1000 - val_loss: 2.3181 - val_accuracy: 0.1062\n",
            "Epoch 2/20\n",
            "375/375 [==============================] - 1s 3ms/step - loss: 2.3117 - accuracy: 0.1081 - val_loss: 2.3191 - val_accuracy: 0.1051\n",
            "Epoch 3/20\n",
            "375/375 [==============================] - 1s 3ms/step - loss: 2.3069 - accuracy: 0.1127 - val_loss: 2.3178 - val_accuracy: 0.1015\n",
            "Epoch 4/20\n",
            "375/375 [==============================] - 1s 3ms/step - loss: 2.3022 - accuracy: 0.1191 - val_loss: 2.3277 - val_accuracy: 0.0982\n",
            "Epoch 5/20\n",
            "375/375 [==============================] - 1s 3ms/step - loss: 2.2990 - accuracy: 0.1230 - val_loss: 2.3242 - val_accuracy: 0.1013\n",
            "Epoch 6/20\n",
            "375/375 [==============================] - 1s 3ms/step - loss: 2.2968 - accuracy: 0.1225 - val_loss: 2.3224 - val_accuracy: 0.1034\n",
            "Epoch 7/20\n",
            "375/375 [==============================] - 1s 3ms/step - loss: 2.2948 - accuracy: 0.1255 - val_loss: 2.3232 - val_accuracy: 0.1064\n",
            "Epoch 8/20\n",
            "375/375 [==============================] - 1s 3ms/step - loss: 2.2928 - accuracy: 0.1275 - val_loss: 2.3233 - val_accuracy: 0.1055\n",
            "Epoch 9/20\n",
            "375/375 [==============================] - 1s 3ms/step - loss: 2.2909 - accuracy: 0.1310 - val_loss: 2.3262 - val_accuracy: 0.1081\n",
            "Epoch 10/20\n",
            "375/375 [==============================] - 1s 3ms/step - loss: 2.2897 - accuracy: 0.1296 - val_loss: 2.3255 - val_accuracy: 0.1055\n",
            "Epoch 11/20\n",
            "375/375 [==============================] - 1s 3ms/step - loss: 2.2880 - accuracy: 0.1315 - val_loss: 2.3261 - val_accuracy: 0.1023\n",
            "Epoch 12/20\n",
            "375/375 [==============================] - 1s 3ms/step - loss: 2.2869 - accuracy: 0.1341 - val_loss: 2.3252 - val_accuracy: 0.1082\n",
            "Epoch 13/20\n",
            "375/375 [==============================] - 1s 3ms/step - loss: 2.2857 - accuracy: 0.1347 - val_loss: 2.3300 - val_accuracy: 0.1034\n",
            "Epoch 14/20\n",
            "375/375 [==============================] - 1s 3ms/step - loss: 2.2853 - accuracy: 0.1341 - val_loss: 2.3266 - val_accuracy: 0.1068\n",
            "Epoch 15/20\n",
            "375/375 [==============================] - 1s 3ms/step - loss: 2.2839 - accuracy: 0.1357 - val_loss: 2.3385 - val_accuracy: 0.1002\n",
            "Epoch 16/20\n",
            "375/375 [==============================] - 1s 3ms/step - loss: 2.2835 - accuracy: 0.1356 - val_loss: 2.3285 - val_accuracy: 0.0995\n",
            "Epoch 17/20\n",
            "375/375 [==============================] - 1s 3ms/step - loss: 2.2822 - accuracy: 0.1369 - val_loss: 2.3286 - val_accuracy: 0.1017\n",
            "Epoch 18/20\n",
            "375/375 [==============================] - 1s 3ms/step - loss: 2.2814 - accuracy: 0.1390 - val_loss: 2.3324 - val_accuracy: 0.1009\n",
            "Epoch 19/20\n",
            "375/375 [==============================] - 2s 4ms/step - loss: 2.2803 - accuracy: 0.1374 - val_loss: 2.3378 - val_accuracy: 0.1062\n",
            "Epoch 20/20\n",
            "375/375 [==============================] - 1s 3ms/step - loss: 2.2801 - accuracy: 0.1389 - val_loss: 2.3314 - val_accuracy: 0.1080\n"
          ]
        }
      ],
      "source": [
        "model = keras.Sequential([layers.Dense(10, activation=\"softmax\")]) #too simple\n",
        "model.compile(optimizer=\"rmsprop\",\n",
        "              loss=\"sparse_categorical_crossentropy\",\n",
        "              metrics=[\"accuracy\"])\n",
        "history_small_model = model.fit(\n",
        "    train_images, train_labels,\n",
        "    epochs=20,\n",
        "    batch_size=128,\n",
        "    validation_split=0.2)"
      ]
    },
    {
      "cell_type": "code",
      "execution_count": null,
      "metadata": {
        "id": "L4zkSN4Iq5rP"
      },
      "outputs": [],
      "source": [
        "import matplotlib.pyplot as plt\n",
        "val_loss = history_small_model.history[\"val_loss\"]\n",
        "epochs = range(1, 21)\n",
        "plt.plot(epochs, val_loss, \"b--\",\n",
        "         label=\"Validation loss\")\n",
        "plt.title(\"Effect of insufficient model capacity on validation loss\")\n",
        "plt.xlabel(\"Epochs\")\n",
        "plt.ylabel(\"Loss\")\n",
        "plt.legend()"
      ]
    },
    {
      "cell_type": "code",
      "execution_count": null,
      "metadata": {
        "id": "Sgq2rvlZq5rP"
      },
      "outputs": [],
      "source": [
        "model = keras.Sequential([\n",
        "    layers.Dense(96, activation=\"relu\"),\n",
        "    layers.Dense(96, activation=\"relu\"),\n",
        "    layers.Dense(10, activation=\"softmax\"), #층도 유닛도 늘려버려\n",
        "])\n",
        "model.compile(optimizer=\"rmsprop\",\n",
        "              loss=\"sparse_categorical_crossentropy\",\n",
        "              metrics=[\"accuracy\"])\n",
        "history_large_model = model.fit(\n",
        "    train_images, train_labels,\n",
        "    epochs=20,\n",
        "    batch_size=128,\n",
        "    validation_split=0.2)"
      ]
    },
    {
      "cell_type": "markdown",
      "metadata": {
        "id": "qP5anKMDq5rP"
      },
      "source": [
        "## Improving generalization"
      ]
    },
    {
      "cell_type": "code",
      "source": [
        "#generaliztion power와 overfit을 확인했다면 일반화를 시킬차례"
      ],
      "metadata": {
        "id": "ESVoK0OsgRvT"
      },
      "execution_count": null,
      "outputs": []
    },
    {
      "cell_type": "markdown",
      "metadata": {
        "id": "iwHSaTVoq5rP"
      },
      "source": [
        "### Dataset curation"
      ]
    },
    {
      "cell_type": "markdown",
      "metadata": {
        "id": "_zdzf5Geq5rQ"
      },
      "source": [
        "### Feature engineering\n",
        "\n",
        "good features allow you to solve probelms using lower resourses"
      ]
    },
    {
      "cell_type": "markdown",
      "metadata": {
        "id": "N64MrfEIq5rQ"
      },
      "source": [
        "### Using early stopping"
      ]
    },
    {
      "cell_type": "markdown",
      "metadata": {
        "id": "HqYdl04qq5rQ"
      },
      "source": [
        "### Regularizing your model\n",
        "\n",
        "* Overfitting을 막기위한 노력"
      ]
    },
    {
      "cell_type": "markdown",
      "metadata": {
        "id": "UY80Ef24q5rQ"
      },
      "source": [
        "#### Reducing the network's size"
      ]
    },
    {
      "cell_type": "markdown",
      "metadata": {
        "id": "wPqiWCknq5rQ"
      },
      "source": [
        "**Original model**"
      ]
    },
    {
      "cell_type": "code",
      "execution_count": null,
      "metadata": {
        "id": "vciq5LEdq5rQ",
        "outputId": "0a1c9ac3-02b6-48c5-8181-7105c2c173bc",
        "colab": {
          "base_uri": "https://localhost:8080/"
        }
      },
      "outputs": [
        {
          "output_type": "stream",
          "name": "stdout",
          "text": [
            "Downloading data from https://storage.googleapis.com/tensorflow/tf-keras-datasets/imdb.npz\n",
            "17465344/17464789 [==============================] - 0s 0us/step\n",
            "17473536/17464789 [==============================] - 0s 0us/step\n",
            "Epoch 1/20\n",
            "30/30 [==============================] - 2s 46ms/step - loss: 0.5436 - accuracy: 0.7754 - val_loss: 0.4212 - val_accuracy: 0.8553\n",
            "Epoch 2/20\n",
            "30/30 [==============================] - 1s 31ms/step - loss: 0.3403 - accuracy: 0.9009 - val_loss: 0.3203 - val_accuracy: 0.8922\n",
            "Epoch 3/20\n",
            "30/30 [==============================] - 1s 31ms/step - loss: 0.2471 - accuracy: 0.9245 - val_loss: 0.3075 - val_accuracy: 0.8788\n",
            "Epoch 4/20\n",
            "30/30 [==============================] - 1s 31ms/step - loss: 0.1938 - accuracy: 0.9395 - val_loss: 0.2746 - val_accuracy: 0.8918\n",
            "Epoch 5/20\n",
            "30/30 [==============================] - 1s 31ms/step - loss: 0.1590 - accuracy: 0.9503 - val_loss: 0.2782 - val_accuracy: 0.8902\n",
            "Epoch 6/20\n",
            "30/30 [==============================] - 1s 32ms/step - loss: 0.1284 - accuracy: 0.9625 - val_loss: 0.2996 - val_accuracy: 0.8843\n",
            "Epoch 7/20\n",
            "30/30 [==============================] - 1s 31ms/step - loss: 0.1092 - accuracy: 0.9670 - val_loss: 0.3655 - val_accuracy: 0.8657\n",
            "Epoch 8/20\n",
            "30/30 [==============================] - 1s 31ms/step - loss: 0.0912 - accuracy: 0.9741 - val_loss: 0.3190 - val_accuracy: 0.8833\n",
            "Epoch 9/20\n",
            "30/30 [==============================] - 1s 31ms/step - loss: 0.0763 - accuracy: 0.9791 - val_loss: 0.3363 - val_accuracy: 0.8820\n",
            "Epoch 10/20\n",
            "30/30 [==============================] - 1s 31ms/step - loss: 0.0673 - accuracy: 0.9813 - val_loss: 0.3769 - val_accuracy: 0.8760\n",
            "Epoch 11/20\n",
            "30/30 [==============================] - 1s 31ms/step - loss: 0.0536 - accuracy: 0.9879 - val_loss: 0.3793 - val_accuracy: 0.8799\n",
            "Epoch 12/20\n",
            "30/30 [==============================] - 1s 30ms/step - loss: 0.0464 - accuracy: 0.9890 - val_loss: 0.4067 - val_accuracy: 0.8761\n",
            "Epoch 13/20\n",
            "30/30 [==============================] - 1s 31ms/step - loss: 0.0373 - accuracy: 0.9925 - val_loss: 0.4572 - val_accuracy: 0.8710\n",
            "Epoch 14/20\n",
            "30/30 [==============================] - 1s 31ms/step - loss: 0.0330 - accuracy: 0.9934 - val_loss: 0.4600 - val_accuracy: 0.8739\n",
            "Epoch 15/20\n",
            "30/30 [==============================] - 1s 31ms/step - loss: 0.0272 - accuracy: 0.9942 - val_loss: 0.4922 - val_accuracy: 0.8701\n",
            "Epoch 16/20\n",
            "30/30 [==============================] - 1s 31ms/step - loss: 0.0238 - accuracy: 0.9951 - val_loss: 0.5182 - val_accuracy: 0.8705\n",
            "Epoch 17/20\n",
            "30/30 [==============================] - 1s 31ms/step - loss: 0.0170 - accuracy: 0.9975 - val_loss: 0.5450 - val_accuracy: 0.8681\n",
            "Epoch 18/20\n",
            "30/30 [==============================] - 1s 30ms/step - loss: 0.0154 - accuracy: 0.9978 - val_loss: 0.5866 - val_accuracy: 0.8672\n",
            "Epoch 19/20\n",
            "30/30 [==============================] - 1s 32ms/step - loss: 0.0121 - accuracy: 0.9987 - val_loss: 0.6150 - val_accuracy: 0.8653\n",
            "Epoch 20/20\n",
            "30/30 [==============================] - 1s 34ms/step - loss: 0.0107 - accuracy: 0.9983 - val_loss: 0.6439 - val_accuracy: 0.8658\n"
          ]
        }
      ],
      "source": [
        "from tensorflow.keras.datasets import imdb\n",
        "(train_data, train_labels), _ = imdb.load_data(num_words=10000)\n",
        "\n",
        "def vectorize_sequences(sequences, dimension=10000):\n",
        "    results = np.zeros((len(sequences), dimension))\n",
        "    for i, sequence in enumerate(sequences):\n",
        "        results[i, sequence] = 1.\n",
        "    return results\n",
        "train_data = vectorize_sequences(train_data)\n",
        "\n",
        "model = keras.Sequential([\n",
        "    layers.Dense(16, activation=\"relu\"),\n",
        "    layers.Dense(16, activation=\"relu\"),\n",
        "    layers.Dense(1, activation=\"sigmoid\")\n",
        "])\n",
        "model.compile(optimizer=\"rmsprop\",\n",
        "              loss=\"binary_crossentropy\",\n",
        "              metrics=[\"accuracy\"])\n",
        "history_original = model.fit(train_data, train_labels,\n",
        "                             epochs=20, batch_size=512, validation_split=0.4)"
      ]
    },
    {
      "cell_type": "markdown",
      "metadata": {
        "id": "gzMO34iBq5rR"
      },
      "source": [
        "**Version of the model with lower capacity**"
      ]
    },
    {
      "cell_type": "code",
      "execution_count": null,
      "metadata": {
        "id": "j3E4YOi2q5rR",
        "outputId": "ea02d68f-41ae-4d12-aad1-ca96d26d083f",
        "colab": {
          "base_uri": "https://localhost:8080/"
        }
      },
      "outputs": [
        {
          "output_type": "stream",
          "name": "stdout",
          "text": [
            "Epoch 1/20\n",
            "30/30 [==============================] - 2s 38ms/step - loss: 0.6167 - accuracy: 0.6646 - val_loss: 0.5626 - val_accuracy: 0.7843\n",
            "Epoch 2/20\n",
            "30/30 [==============================] - 1s 30ms/step - loss: 0.5197 - accuracy: 0.8045 - val_loss: 0.5177 - val_accuracy: 0.8266\n",
            "Epoch 3/20\n",
            "30/30 [==============================] - 1s 29ms/step - loss: 0.4731 - accuracy: 0.8597 - val_loss: 0.4935 - val_accuracy: 0.8540\n",
            "Epoch 4/20\n",
            "30/30 [==============================] - 1s 30ms/step - loss: 0.4399 - accuracy: 0.8901 - val_loss: 0.4785 - val_accuracy: 0.8624\n",
            "Epoch 5/20\n",
            "30/30 [==============================] - 1s 29ms/step - loss: 0.4138 - accuracy: 0.9133 - val_loss: 0.4698 - val_accuracy: 0.8681\n",
            "Epoch 6/20\n",
            "30/30 [==============================] - 1s 30ms/step - loss: 0.3926 - accuracy: 0.9283 - val_loss: 0.4749 - val_accuracy: 0.8542\n",
            "Epoch 7/20\n",
            "30/30 [==============================] - 1s 30ms/step - loss: 0.3739 - accuracy: 0.9399 - val_loss: 0.4625 - val_accuracy: 0.8710\n",
            "Epoch 8/20\n",
            "30/30 [==============================] - 1s 30ms/step - loss: 0.3562 - accuracy: 0.9515 - val_loss: 0.4731 - val_accuracy: 0.8621\n",
            "Epoch 9/20\n",
            "30/30 [==============================] - 1s 30ms/step - loss: 0.3423 - accuracy: 0.9575 - val_loss: 0.4822 - val_accuracy: 0.8591\n",
            "Epoch 10/20\n",
            "30/30 [==============================] - 1s 34ms/step - loss: 0.3282 - accuracy: 0.9654 - val_loss: 0.4900 - val_accuracy: 0.8594\n",
            "Epoch 11/20\n",
            "30/30 [==============================] - 1s 40ms/step - loss: 0.3165 - accuracy: 0.9699 - val_loss: 0.4872 - val_accuracy: 0.8652\n",
            "Epoch 12/20\n",
            "30/30 [==============================] - 2s 54ms/step - loss: 0.3052 - accuracy: 0.9742 - val_loss: 0.5371 - val_accuracy: 0.8505\n",
            "Epoch 13/20\n",
            "30/30 [==============================] - 1s 35ms/step - loss: 0.2945 - accuracy: 0.9770 - val_loss: 0.5276 - val_accuracy: 0.8563\n",
            "Epoch 14/20\n",
            "30/30 [==============================] - 1s 29ms/step - loss: 0.2853 - accuracy: 0.9794 - val_loss: 0.4887 - val_accuracy: 0.8721\n",
            "Epoch 15/20\n",
            "30/30 [==============================] - 1s 34ms/step - loss: 0.2766 - accuracy: 0.9820 - val_loss: 0.5042 - val_accuracy: 0.8706\n",
            "Epoch 16/20\n",
            "30/30 [==============================] - 2s 54ms/step - loss: 0.2684 - accuracy: 0.9831 - val_loss: 0.5384 - val_accuracy: 0.8634\n",
            "Epoch 17/20\n",
            "30/30 [==============================] - 1s 35ms/step - loss: 0.2604 - accuracy: 0.9850 - val_loss: 0.5470 - val_accuracy: 0.8638\n",
            "Epoch 18/20\n",
            "30/30 [==============================] - 1s 34ms/step - loss: 0.2527 - accuracy: 0.9868 - val_loss: 0.5918 - val_accuracy: 0.8585\n",
            "Epoch 19/20\n",
            "30/30 [==============================] - 1s 47ms/step - loss: 0.2459 - accuracy: 0.9873 - val_loss: 0.6001 - val_accuracy: 0.8598\n",
            "Epoch 20/20\n",
            "30/30 [==============================] - 1s 31ms/step - loss: 0.2394 - accuracy: 0.9875 - val_loss: 0.5806 - val_accuracy: 0.8649\n"
          ]
        }
      ],
      "source": [
        "model = keras.Sequential([\n",
        "    layers.Dense(4, activation=\"relu\"),\n",
        "    layers.Dense(4, activation=\"relu\"),\n",
        "    layers.Dense(1, activation=\"sigmoid\")\n",
        "])\n",
        "model.compile(optimizer=\"rmsprop\",\n",
        "              loss=\"binary_crossentropy\",\n",
        "              metrics=[\"accuracy\"])\n",
        "history_smaller_model = model.fit(\n",
        "    train_data, train_labels,\n",
        "    epochs=20, batch_size=512, validation_split=0.4)"
      ]
    },
    {
      "cell_type": "markdown",
      "metadata": {
        "id": "z_j0nGyxq5rR"
      },
      "source": [
        "**Version of the model with higher capacity**"
      ]
    },
    {
      "cell_type": "code",
      "execution_count": null,
      "metadata": {
        "id": "T7gT-x5bq5rR",
        "outputId": "1792bea7-bb3b-4273-9df4-d5ddce2027b1",
        "colab": {
          "base_uri": "https://localhost:8080/"
        }
      },
      "outputs": [
        {
          "output_type": "stream",
          "name": "stdout",
          "text": [
            "Epoch 1/20\n",
            "30/30 [==============================] - 9s 278ms/step - loss: 0.5480 - accuracy: 0.7565 - val_loss: 0.3218 - val_accuracy: 0.8820\n",
            "Epoch 2/20\n",
            "30/30 [==============================] - 8s 265ms/step - loss: 0.2412 - accuracy: 0.9075 - val_loss: 0.4254 - val_accuracy: 0.8256\n",
            "Epoch 3/20\n",
            "30/30 [==============================] - 8s 265ms/step - loss: 0.1672 - accuracy: 0.9388 - val_loss: 0.2924 - val_accuracy: 0.8913\n",
            "Epoch 4/20\n",
            "30/30 [==============================] - 8s 267ms/step - loss: 0.0702 - accuracy: 0.9760 - val_loss: 0.7793 - val_accuracy: 0.7923\n",
            "Epoch 5/20\n",
            "30/30 [==============================] - 8s 265ms/step - loss: 0.0651 - accuracy: 0.9789 - val_loss: 0.4553 - val_accuracy: 0.8865\n",
            "Epoch 6/20\n",
            "30/30 [==============================] - 8s 266ms/step - loss: 0.1638 - accuracy: 0.9766 - val_loss: 0.3673 - val_accuracy: 0.8805\n",
            "Epoch 7/20\n",
            "30/30 [==============================] - 8s 279ms/step - loss: 0.0039 - accuracy: 0.9999 - val_loss: 0.5025 - val_accuracy: 0.8876\n",
            "Epoch 8/20\n",
            "30/30 [==============================] - 8s 266ms/step - loss: 6.1771e-04 - accuracy: 1.0000 - val_loss: 0.6069 - val_accuracy: 0.8891\n",
            "Epoch 9/20\n",
            "30/30 [==============================] - 8s 266ms/step - loss: 1.1401e-04 - accuracy: 1.0000 - val_loss: 0.7332 - val_accuracy: 0.8856\n",
            "Epoch 10/20\n",
            "30/30 [==============================] - 8s 264ms/step - loss: 2.5292e-05 - accuracy: 1.0000 - val_loss: 0.8059 - val_accuracy: 0.8874\n",
            "Epoch 11/20\n",
            "30/30 [==============================] - 9s 292ms/step - loss: 5.5291e-06 - accuracy: 1.0000 - val_loss: 0.9060 - val_accuracy: 0.8871\n",
            "Epoch 12/20\n",
            "30/30 [==============================] - 9s 315ms/step - loss: 0.0089 - accuracy: 0.9983 - val_loss: 6.1902 - val_accuracy: 0.6411\n",
            "Epoch 13/20\n",
            "30/30 [==============================] - 8s 282ms/step - loss: 0.1581 - accuracy: 0.9831 - val_loss: 0.6948 - val_accuracy: 0.8869\n",
            "Epoch 14/20\n",
            "30/30 [==============================] - 8s 266ms/step - loss: 1.7658e-05 - accuracy: 1.0000 - val_loss: 0.7247 - val_accuracy: 0.8865\n",
            "Epoch 15/20\n",
            "30/30 [==============================] - 8s 267ms/step - loss: 1.0040e-05 - accuracy: 1.0000 - val_loss: 0.7550 - val_accuracy: 0.8863\n",
            "Epoch 16/20\n",
            "30/30 [==============================] - 8s 270ms/step - loss: 5.8008e-06 - accuracy: 1.0000 - val_loss: 0.7967 - val_accuracy: 0.8870\n",
            "Epoch 17/20\n",
            "30/30 [==============================] - 8s 269ms/step - loss: 2.8692e-06 - accuracy: 1.0000 - val_loss: 0.8599 - val_accuracy: 0.8867\n",
            "Epoch 18/20\n",
            "30/30 [==============================] - 8s 267ms/step - loss: 1.1607e-06 - accuracy: 1.0000 - val_loss: 0.9447 - val_accuracy: 0.8874\n",
            "Epoch 19/20\n",
            "30/30 [==============================] - 8s 271ms/step - loss: 4.3686e-07 - accuracy: 1.0000 - val_loss: 1.0251 - val_accuracy: 0.8867\n",
            "Epoch 20/20\n",
            "30/30 [==============================] - 8s 266ms/step - loss: 1.7887e-07 - accuracy: 1.0000 - val_loss: 1.1003 - val_accuracy: 0.8868\n"
          ]
        }
      ],
      "source": [
        "model = keras.Sequential([\n",
        "    layers.Dense(512, activation=\"relu\"),\n",
        "    layers.Dense(512, activation=\"relu\"),\n",
        "    layers.Dense(1, activation=\"sigmoid\")\n",
        "])\n",
        "model.compile(optimizer=\"rmsprop\",\n",
        "              loss=\"binary_crossentropy\",\n",
        "              metrics=[\"accuracy\"])\n",
        "history_larger_model = model.fit(\n",
        "    train_data, train_labels,\n",
        "    epochs=20, batch_size=512, validation_split=0.4)"
      ]
    },
    {
      "cell_type": "code",
      "source": [
        "import matplotlib.pyplot as plt\n",
        "\n",
        "val_loss1 = history_original.history['val_loss']\n",
        "val_loss2 = history_smaller_model.history['val_loss']\n",
        "val_loss3 = history_larger_model.history['val_loss']\n",
        "\n",
        "epochs = range(1,21)\n",
        "\n",
        "plt.plot(epochs,val_loss1,'r',label = 'original_val_loss')\n",
        "plt.plot(epochs,val_loss2,'b',label = 'smaller_val_loss')\n",
        "plt.legend()\n",
        "plt.show()"
      ],
      "metadata": {
        "id": "umhNtQZKhsp-",
        "outputId": "d2586ef9-8c46-4461-8b1e-996c02e5dd31",
        "colab": {
          "base_uri": "https://localhost:8080/",
          "height": 265
        }
      },
      "execution_count": null,
      "outputs": [
        {
          "output_type": "display_data",
          "data": {
            "text/plain": [
              "<Figure size 432x288 with 1 Axes>"
            ],
            "image/png": "[encoded data removed]"
          },
          "metadata": {
            "needs_background": "light"
          }
        }
      ]
    },
    {
      "cell_type": "markdown",
      "metadata": {
        "id": "e5UV1699q5rR"
      },
      "source": [
        "#### Adding weight regularization"
      ]
    },
    {
      "cell_type": "markdown",
      "metadata": {
        "id": "6vdKKpRtq5rR"
      },
      "source": [
        "**Adding L2 weight regularization to the model**"
      ]
    },
    {
      "cell_type": "code",
      "execution_count": null,
      "metadata": {
        "id": "BP7TNu4nq5rR",
        "outputId": "1ff1316f-c4b2-450d-e266-18dd9567c3dc",
        "colab": {
          "base_uri": "https://localhost:8080/"
        }
      },
      "outputs": [
        {
          "output_type": "stream",
          "name": "stdout",
          "text": [
            "Epoch 1/20\n",
            "30/30 [==============================] - 2s 47ms/step - loss: 0.5928 - accuracy: 0.7817 - val_loss: 0.4791 - val_accuracy: 0.8299\n",
            "Epoch 2/20\n",
            "30/30 [==============================] - 1s 33ms/step - loss: 0.3924 - accuracy: 0.8938 - val_loss: 0.3945 - val_accuracy: 0.8800\n",
            "Epoch 3/20\n",
            "30/30 [==============================] - 1s 33ms/step - loss: 0.3324 - accuracy: 0.9133 - val_loss: 0.3679 - val_accuracy: 0.8874\n",
            "Epoch 4/20\n",
            "30/30 [==============================] - 1s 41ms/step - loss: 0.2982 - accuracy: 0.9260 - val_loss: 0.3696 - val_accuracy: 0.8843\n",
            "Epoch 5/20\n",
            "30/30 [==============================] - 1s 44ms/step - loss: 0.2813 - accuracy: 0.9327 - val_loss: 0.3741 - val_accuracy: 0.8813\n",
            "Epoch 6/20\n",
            "30/30 [==============================] - 1s 33ms/step - loss: 0.2684 - accuracy: 0.9380 - val_loss: 0.3622 - val_accuracy: 0.8871\n",
            "Epoch 7/20\n",
            "30/30 [==============================] - 1s 33ms/step - loss: 0.2595 - accuracy: 0.9403 - val_loss: 0.3646 - val_accuracy: 0.8847\n",
            "Epoch 8/20\n",
            "30/30 [==============================] - 1s 34ms/step - loss: 0.2493 - accuracy: 0.9437 - val_loss: 0.3762 - val_accuracy: 0.8811\n",
            "Epoch 9/20\n",
            "30/30 [==============================] - 2s 59ms/step - loss: 0.2460 - accuracy: 0.9456 - val_loss: 0.3777 - val_accuracy: 0.8811\n",
            "Epoch 10/20\n",
            "30/30 [==============================] - 1s 35ms/step - loss: 0.2397 - accuracy: 0.9473 - val_loss: 0.3786 - val_accuracy: 0.8824\n",
            "Epoch 11/20\n",
            "30/30 [==============================] - 1s 33ms/step - loss: 0.2385 - accuracy: 0.9456 - val_loss: 0.3824 - val_accuracy: 0.8786\n",
            "Epoch 12/20\n",
            "30/30 [==============================] - 1s 34ms/step - loss: 0.2268 - accuracy: 0.9511 - val_loss: 0.4080 - val_accuracy: 0.8741\n",
            "Epoch 13/20\n",
            "30/30 [==============================] - 1s 34ms/step - loss: 0.2329 - accuracy: 0.9461 - val_loss: 0.4403 - val_accuracy: 0.8627\n",
            "Epoch 14/20\n",
            "30/30 [==============================] - 1s 34ms/step - loss: 0.2245 - accuracy: 0.9530 - val_loss: 0.4187 - val_accuracy: 0.8710\n",
            "Epoch 15/20\n",
            "30/30 [==============================] - 1s 32ms/step - loss: 0.2194 - accuracy: 0.9543 - val_loss: 0.3959 - val_accuracy: 0.8768\n",
            "Epoch 16/20\n",
            "30/30 [==============================] - 1s 32ms/step - loss: 0.2242 - accuracy: 0.9509 - val_loss: 0.4224 - val_accuracy: 0.8704\n",
            "Epoch 17/20\n",
            "30/30 [==============================] - 1s 33ms/step - loss: 0.2122 - accuracy: 0.9571 - val_loss: 0.4360 - val_accuracy: 0.8692\n",
            "Epoch 18/20\n",
            "30/30 [==============================] - 1s 33ms/step - loss: 0.2160 - accuracy: 0.9527 - val_loss: 0.4806 - val_accuracy: 0.8550\n",
            "Epoch 19/20\n",
            "30/30 [==============================] - 1s 34ms/step - loss: 0.2100 - accuracy: 0.9575 - val_loss: 0.4107 - val_accuracy: 0.8765\n",
            "Epoch 20/20\n",
            "30/30 [==============================] - 1s 32ms/step - loss: 0.2123 - accuracy: 0.9559 - val_loss: 0.4753 - val_accuracy: 0.8613\n"
          ]
        }
      ],
      "source": [
        "from tensorflow.keras import regularizers\n",
        "model = keras.Sequential([\n",
        "    layers.Dense(16,\n",
        "                 kernel_regularizer=regularizers.l2(0.002),\n",
        "                 activation=\"relu\"),\n",
        "    layers.Dense(16,\n",
        "                 kernel_regularizer=regularizers.l2(0.002),\n",
        "                 activation=\"relu\"),\n",
        "    layers.Dense(1, activation=\"sigmoid\")\n",
        "])\n",
        "model.compile(optimizer=\"rmsprop\",\n",
        "              loss=\"binary_crossentropy\",\n",
        "              metrics=[\"accuracy\"])\n",
        "history_l2_reg = model.fit(\n",
        "    train_data, train_labels,\n",
        "    epochs=20, batch_size=512, validation_split=0.4)"
      ]
    },
    {
      "cell_type": "code",
      "source": [
        "val_loss4 = history_l2_reg.history['val_loss']\n",
        "\n",
        "epochs = range(1,21)\n",
        "\n",
        "plt.plot(epochs,val_loss1,'r',label = 'original_val_loss')\n",
        "plt.plot(epochs,val_loss4,'b',label = 'l2_val_loss')\n",
        "plt.legend()\n",
        "plt.show()"
      ],
      "metadata": {
        "id": "3L-SXtJakTZM",
        "outputId": "3b075087-788f-4c4a-9e91-8262c03f3cb4",
        "colab": {
          "base_uri": "https://localhost:8080/",
          "height": 265
        }
      },
      "execution_count": null,
      "outputs": [
        {
          "output_type": "display_data",
          "data": {
            "text/plain": [
              "<Figure size 432x288 with 1 Axes>"
            ],
            "image/png": "[encoded data removed]"
          },
          "metadata": {
            "needs_background": "light"
          }
        }
      ]
    },
    {
      "cell_type": "markdown",
      "metadata": {
        "id": "cHhb5RCeq5rS"
      },
      "source": [
        "**Different weight regularizers available in Keras**"
      ]
    },
    {
      "cell_type": "code",
      "execution_count": null,
      "metadata": {
        "id": "ardX70Vzq5rS"
      },
      "outputs": [],
      "source": [
        "from tensorflow.keras import regularizers\n",
        "regularizers.l1(0.001)\n",
        "regularizers.l1_l2(l1=0.001, l2=0.001)"
      ]
    },
    {
      "cell_type": "markdown",
      "metadata": {
        "id": "F48RaL8Zq5rS"
      },
      "source": [
        "#### Adding dropout"
      ]
    },
    {
      "cell_type": "markdown",
      "metadata": {
        "id": "VJO7cH27q5rS"
      },
      "source": [
        "**Adding dropout to the IMDB model**"
      ]
    },
    {
      "cell_type": "code",
      "execution_count": null,
      "metadata": {
        "id": "JlYnW7RLq5rS",
        "outputId": "2fa26d0e-f143-4c0a-a320-569fe2bf2530",
        "colab": {
          "base_uri": "https://localhost:8080/"
        }
      },
      "outputs": [
        {
          "output_type": "stream",
          "name": "stdout",
          "text": [
            "Epoch 1/20\n",
            "30/30 [==============================] - 2s 44ms/step - loss: 0.6409 - accuracy: 0.6253 - val_loss: 0.5492 - val_accuracy: 0.8057\n",
            "Epoch 2/20\n",
            "30/30 [==============================] - 1s 33ms/step - loss: 0.5369 - accuracy: 0.7356 - val_loss: 0.4470 - val_accuracy: 0.8746\n",
            "Epoch 3/20\n",
            "30/30 [==============================] - 1s 44ms/step - loss: 0.4562 - accuracy: 0.7999 - val_loss: 0.3689 - val_accuracy: 0.8808\n",
            "Epoch 4/20\n",
            "30/30 [==============================] - 1s 34ms/step - loss: 0.3958 - accuracy: 0.8356 - val_loss: 0.3258 - val_accuracy: 0.8885\n",
            "Epoch 5/20\n",
            "30/30 [==============================] - 1s 32ms/step - loss: 0.3408 - accuracy: 0.8719 - val_loss: 0.2933 - val_accuracy: 0.8921\n",
            "Epoch 6/20\n",
            "30/30 [==============================] - 1s 32ms/step - loss: 0.2991 - accuracy: 0.8898 - val_loss: 0.2814 - val_accuracy: 0.8878\n",
            "Epoch 7/20\n",
            "30/30 [==============================] - 1s 46ms/step - loss: 0.2706 - accuracy: 0.9035 - val_loss: 0.2838 - val_accuracy: 0.8898\n",
            "Epoch 8/20\n",
            "30/30 [==============================] - 1s 33ms/step - loss: 0.2351 - accuracy: 0.9192 - val_loss: 0.2789 - val_accuracy: 0.8923\n",
            "Epoch 9/20\n",
            "30/30 [==============================] - 1s 42ms/step - loss: 0.2156 - accuracy: 0.9258 - val_loss: 0.2851 - val_accuracy: 0.8923\n",
            "Epoch 10/20\n",
            "30/30 [==============================] - 1s 33ms/step - loss: 0.1891 - accuracy: 0.9399 - val_loss: 0.2971 - val_accuracy: 0.8944\n",
            "Epoch 11/20\n",
            "30/30 [==============================] - 1s 32ms/step - loss: 0.1767 - accuracy: 0.9411 - val_loss: 0.3110 - val_accuracy: 0.8928\n",
            "Epoch 12/20\n",
            "30/30 [==============================] - 1s 36ms/step - loss: 0.1575 - accuracy: 0.9473 - val_loss: 0.3365 - val_accuracy: 0.8924\n",
            "Epoch 13/20\n",
            "30/30 [==============================] - 1s 40ms/step - loss: 0.1461 - accuracy: 0.9518 - val_loss: 0.3590 - val_accuracy: 0.8909\n",
            "Epoch 14/20\n",
            "30/30 [==============================] - 1s 34ms/step - loss: 0.1338 - accuracy: 0.9560 - val_loss: 0.3968 - val_accuracy: 0.8888\n",
            "Epoch 15/20\n",
            "30/30 [==============================] - 1s 35ms/step - loss: 0.1267 - accuracy: 0.9593 - val_loss: 0.3915 - val_accuracy: 0.8879\n",
            "Epoch 16/20\n",
            "30/30 [==============================] - 1s 41ms/step - loss: 0.1130 - accuracy: 0.9640 - val_loss: 0.4214 - val_accuracy: 0.8906\n",
            "Epoch 17/20\n",
            "30/30 [==============================] - 2s 62ms/step - loss: 0.1103 - accuracy: 0.9623 - val_loss: 0.4592 - val_accuracy: 0.8894\n",
            "Epoch 18/20\n",
            "30/30 [==============================] - 1s 39ms/step - loss: 0.1034 - accuracy: 0.9661 - val_loss: 0.4705 - val_accuracy: 0.8907\n",
            "Epoch 19/20\n",
            "30/30 [==============================] - 1s 32ms/step - loss: 0.0983 - accuracy: 0.9688 - val_loss: 0.4890 - val_accuracy: 0.8898\n",
            "Epoch 20/20\n",
            "30/30 [==============================] - 1s 32ms/step - loss: 0.0970 - accuracy: 0.9688 - val_loss: 0.5242 - val_accuracy: 0.8869\n"
          ]
        }
      ],
      "source": [
        "model = keras.Sequential([\n",
        "    layers.Dense(16, activation=\"relu\"),\n",
        "    layers.Dropout(0.5),\n",
        "    layers.Dense(16, activation=\"relu\"),\n",
        "    layers.Dropout(0.5),\n",
        "    layers.Dense(1, activation=\"sigmoid\")\n",
        "])\n",
        "model.compile(optimizer=\"rmsprop\",\n",
        "              loss=\"binary_crossentropy\",\n",
        "              metrics=[\"accuracy\"])\n",
        "history_dropout = model.fit(\n",
        "    train_data, train_labels,\n",
        "    epochs=20, batch_size=512, validation_split=0.4)"
      ]
    },
    {
      "cell_type": "code",
      "source": [
        "val_loss5 = history_dropout.history['val_loss']\n",
        "\n",
        "epochs = range(1,21)\n",
        "\n",
        "plt.plot(epochs,val_loss1,'r',label = 'original_val_loss')\n",
        "plt.plot(epochs,val_loss5,'b',label = 'dropout_val_loss')\n",
        "plt.legend()\n",
        "plt.show()"
      ],
      "metadata": {
        "id": "SRVy8_7Xkov0",
        "outputId": "3a8d7a08-5645-4270-e162-da75801e4844",
        "colab": {
          "base_uri": "https://localhost:8080/",
          "height": 265
        }
      },
      "execution_count": null,
      "outputs": [
        {
          "output_type": "display_data",
          "data": {
            "text/plain": [
              "<Figure size 432x288 with 1 Axes>"
            ],
            "image/png": "[encoded data removed]"
          },
          "metadata": {
            "needs_background": "light"
          }
        }
      ]
    },
    {
      "cell_type": "markdown",
      "metadata": {
        "id": "touFwJHcq5rT"
      },
      "source": [
        "## Summary"
      ]
    }
  ],
  "metadata": {
    "colab": {
      "collapsed_sections": [],
      "name": "5장_study.ipynb",
      "provenance": [],
      "include_colab_link": true
    },
    "kernelspec": {
      "display_name": "Python 3",
      "language": "python",
      "name": "python3"
    },
    "language_info": {
      "codemirror_mode": {
        "name": "ipython",
        "version": 3
      },
      "file_extension": ".py",
      "mimetype": "text/x-python",
      "name": "python",
      "nbconvert_exporter": "python",
      "pygments_lexer": "ipython3",
      "version": "3.7.0"
    }
  },
  "nbformat": 4,
  "nbformat_minor": 0
}